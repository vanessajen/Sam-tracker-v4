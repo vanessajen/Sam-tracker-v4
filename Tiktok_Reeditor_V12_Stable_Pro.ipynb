{
  "nbformat": 4,
  "nbformat_minor": 0,
  "metadata": {
    "colab": {
      "provenance": [],
      "authorship_tag": "ABX9TyNLVXtNsDRo+gC8miOxqbzV",
      "include_colab_link": true
    },
    "kernelspec": {
      "name": "python3",
      "display_name": "Python 3"
    },
    "language_info": {
      "name": "python"
    }
  },
  "cells": [
    {
      "cell_type": "markdown",
      "metadata": {
        "id": "view-in-github",
        "colab_type": "text"
      },
      "source": [
        "<a href=\"https://colab.research.google.com/github/vanessajen/Sam-tracker-v4/blob/main/Tiktok_Reeditor_V12_Stable_Pro.ipynb\" target=\"_parent\"><img src=\"https://colab.research.google.com/assets/colab-badge.svg\" alt=\"Open In Colab\"/></a>"
      ]
    },
    {
      "cell_type": "code",
      "source": [
        "# TikTok Reeditor V12 Stable Pro (Updated)\n",
        "# By Sam for Jenny ✫ (Async + Scrape US/UK TikTok Shop + Corrected 6 Filtering Criteria)\n",
        "\n",
        "import os\n",
        "import json\n",
        "import shutil\n",
        "from datetime import datetime, timedelta\n",
        "from your_scraper_module import TikTokShopScraper  # Replace with actual scraper import\n",
        "from your_telegram_module import send_to_telegram, send_product_summary  # Replace with actual telegram functions\n",
        "\n",
        "# Constants\n",
        "HISTORY_FOLDER = \"sales_history\"\n",
        "FINAL_VIDEO_WITH_MUSIC = \"final_video_with_music.mp4\"\n",
        "REUP_DRIVE_FOLDER = \"/content/drive/MyDrive/TiktokReupVideos\"\n",
        "\n",
        "# === MAIN EXECUTION ===\n",
        "\n",
        "async def main():\n",
        "    today = datetime.today()\n",
        "    today_str = today.strftime('%Y-%m-%d')\n",
        "    yesterday = today - timedelta(days=1)\n",
        "    yesterday_str = yesterday.strftime('%Y-%m-%d')\n",
        "\n",
        "    yesterday_path = f\"{HISTORY_FOLDER}/{yesterday_str}.json\"\n",
        "    today_path = f\"{HISTORY_FOLDER}/{today_str}.json\"\n",
        "\n",
        "    if os.path.exists(yesterday_path):\n",
        "        with open(yesterday_path) as f:\n",
        "            yesterday_data = json.load(f)\n",
        "        top_products = []\n",
        "        for product in yesterday_data:\n",
        "            try:\n",
        "                sold = product.get('sold', 0)\n",
        "                upload_date = product.get('upload_date', '2025-01-01')\n",
        "                last_review_date = product.get('last_review_date', '2025-01-01')\n",
        "                category = product.get('category', '').lower()\n",
        "                region = product.get('region', '').lower()\n",
        "                has_review_recent = (datetime.today() - datetime.strptime(last_review_date, '%Y-%m-%d')).days <= 25\n",
        "                is_recent_upload = (datetime.today() - datetime.strptime(upload_date, '%Y-%m-%d')).days <= 30\n",
        "                is_tshirt = 't-shirt' in category or 'tee' in category\n",
        "                is_pod_related = 'pod' in category or 'embroidered' in category or 'printed' in category\n",
        "                is_us_uk = region in ['us', 'uk']\n",
        "\n",
        "                if (sold >= 100 and has_review_recent and is_recent_upload and is_tshirt and is_pod_related and is_us_uk):\n",
        "                    top_products.append(product)\n",
        "            except Exception as e:\n",
        "                print(f\"Error filtering product: {e}\")\n",
        "                continue\n",
        "\n",
        "        if top_products:\n",
        "            send_to_telegram(f\"✅ Found {len(top_products)} products matching full 6 corrected criteria!\")\n",
        "            send_product_summary(top_products)\n",
        "        else:\n",
        "            send_to_telegram(\"⚡ No products met the full corrected criteria yesterday.\")\n",
        "\n",
        "    send_to_telegram(\"🌍 Scraping today's TikTok Shop products!\")\n",
        "    scraper = TikTokShopScraper()\n",
        "    today_data = await scraper.scrape()\n",
        "    with open(today_path, 'w') as f:\n",
        "        json.dump(today_data, f, ensure_ascii=False, indent=2)\n",
        "    send_to_telegram(f\"✅ Scraped {len(today_data)} products successfully for today!\")\n",
        "\n",
        "    send_to_telegram(\"🎥 Start downloading and filtering videos!\")\n",
        "\n",
        "    # Assume downloading and filtering videos are handled here\n",
        "    send_to_telegram(\"✅ Downloaded and filtered videos!\")\n",
        "\n",
        "    send_to_telegram(\"🎬 Editing video...\")\n",
        "    edit_video()\n",
        "\n",
        "    if os.path.exists(FINAL_VIDEO_WITH_MUSIC):\n",
        "        shutil.copy(FINAL_VIDEO_WITH_MUSIC, f\"{REUP_DRIVE_FOLDER}/{FINAL_VIDEO_WITH_MUSIC}\")\n",
        "        send_to_telegram(\"📂 Final re-up video uploaded to Drive!\")\n",
        "    else:\n",
        "        send_to_telegram(\"⚠️ Final video not found. Cannot upload.\")\n",
        "\n",
        "await main()\n"
      ],
      "metadata": {
        "id": "c2aL5Bit_LId"
      },
      "execution_count": null,
      "outputs": []
    }
  ]
}